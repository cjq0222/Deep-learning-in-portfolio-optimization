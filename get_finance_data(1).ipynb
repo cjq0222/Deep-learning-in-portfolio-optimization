{
 "cells": [
  {
   "cell_type": "code",
   "execution_count": 12,
   "metadata": {},
   "outputs": [],
   "source": [
    "import bs4 as bs\n",
    "import requests\n",
    "import pickle\n",
    "import os\n",
    "import datetime as dt\n",
    "from pandas_datareader import data as pdr\n",
    "import pandas as pd"
   ]
  },
  {
   "cell_type": "code",
   "execution_count": 7,
   "metadata": {},
   "outputs": [],
   "source": [
    "with open('sp500tickers.pickle','rb') as f:\n",
    "    tickers = pickle.load(f)"
   ]
  },
  {
   "cell_type": "code",
   "execution_count": 12,
   "metadata": {},
   "outputs": [],
   "source": [
    "def get_finance_data(ticker):\n",
    "    headers={'User-Agent':'Mozilla/5.0 (Windows NT 6.3; WOW64) AppleWebKit/537.36 (KHTML, like Gecko) Chrome/63.0.3239.132 Safari/537.36'}\n",
    "    resp = requests.get('http://basic.10jqka.com.cn/{}/finance.html?stockpage=1'.format(ticker),headers=headers)\n",
    "    soup = bs.BeautifulSoup(resp.text)\n",
    "    table = soup.find('p', {'id':'keyindex'})\n",
    "    df = pd.DataFrame()\n",
    "    a = table.text\n",
    "    a1 = a.split('report')[1]\n",
    "    a2 = a1.split('[')[3:]\n",
    "    index = 0;\n",
    "    for zhibiao in a2:\n",
    "        index = index + 1\n",
    "        a3 = zhibiao.split('\"')\n",
    "        n = len(a3)\n",
    "        df[index] = ''\n",
    "        for i in range(n//2):\n",
    "            df.loc[i,index]=(a3[2*i+1])\n",
    "    return df"
   ]
  },
  {
   "cell_type": "code",
   "execution_count": 22,
   "metadata": {},
   "outputs": [],
   "source": [
    "if not os.path.exists('finance'):\n",
    "    os.makedirs('finance')\n",
    "for ticker in tickers:\n",
    "    if os.path.exists('finance/{}.csv'.format(ticker)):\n",
    "        df = get_finance_data(ticker.replace('-','.'))\n",
    "        for i in range(len(df)):\n",
    "            df.loc[i,'year'] = 2020-(i+2)//4\n",
    "            df.loc[i,'quart'] = 4-(i+2)%4\n",
    "        df.to_csv('finance/{}.csv'.format(ticker),index=False)\n",
    "    else:\n",
    "        print('Already have {}'.format(ticker))"
   ]
  }
 ],
 "metadata": {
  "kernelspec": {
   "display_name": "Python 3",
   "language": "python",
   "name": "python3"
  },
  "language_info": {
   "codemirror_mode": {
    "name": "ipython",
    "version": 3
   },
   "file_extension": ".py",
   "mimetype": "text/x-python",
   "name": "python",
   "nbconvert_exporter": "python",
   "pygments_lexer": "ipython3",
   "version": "3.7.7"
  }
 },
 "nbformat": 4,
 "nbformat_minor": 4
}
