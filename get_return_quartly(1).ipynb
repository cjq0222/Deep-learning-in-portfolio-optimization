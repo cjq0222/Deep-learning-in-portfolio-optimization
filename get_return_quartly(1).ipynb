{
 "cells": [
  {
   "cell_type": "code",
   "execution_count": 5,
   "metadata": {},
   "outputs": [],
   "source": [
    "import pickle\n",
    "import pandas as pd\n",
    "import os"
   ]
  },
  {
   "cell_type": "code",
   "execution_count": 6,
   "metadata": {},
   "outputs": [],
   "source": [
    "with open('sp500tickers.pickle','rb') as f:\n",
    "    tickers = pickle.load(f)"
   ]
  },
  {
   "cell_type": "code",
   "execution_count": 10,
   "metadata": {},
   "outputs": [],
   "source": [
    "if not os.path.exists('stock_return'):\n",
    "    os.makedirs('stock_return')\n",
    "for ticker in tickers:\n",
    "    df = pd.read_csv('stock_dfs/{}.csv'.format(ticker))\n",
    "    df['Date'] = df['Date'].str.split('-')\n",
    "    df['year'] = df['Date'].str[0]\n",
    "    df['month'] = df['Date'].str[1]\n",
    "    df_month = pd.DataFrame()\n",
    "    n = len(df)\n",
    "    for i in range(n-1):\n",
    "        if (int(df.loc[i,'month'])!=int(df.loc[i+1,'month'])):\n",
    "            df_month = df_month.append(df.loc[i])\n",
    "    df_month = df_month.reset_index(inplace=False)    \n",
    "    n = len(df_month)\n",
    "    df_quart = pd.DataFrame()\n",
    "    for i in range(n):\n",
    "        if (int(df_month.loc[i,'month'])%3==0):\n",
    "            df_quart = df_quart.append(df_month.loc[i])\n",
    "            df_quart.loc[i,'quart'] = int(df_month.loc[i,'month'])//3\n",
    "    df_quart = df_quart.reset_index(inplace = False)\n",
    "    n = len(df_quart)\n",
    "    df_quart.loc[0,'return'] = 1\n",
    "    for i in range(1,n):\n",
    "        stock_return = df_quart.loc[i,'Adj Close']/df_quart.loc[i-1,'Adj Close']\n",
    "        df_quart.loc[i,'return'] = df_quart.loc[i,'Adj Close']/df_quart.loc[i-1,'Adj Close']\n",
    "        df_quart.loc[i,'last_return'] = df_quart.loc[i-1,'return']\n",
    "    df_quart = df_quart.drop(['level_0','Adj Close','Close','Date','High','Low','Open','Volume','index','month'],axis=1)\n",
    "    df_quart = df_quart.drop(0,axis=0)\n",
    "    df_quart.to_csv('stock_return/{}.csv'.format(ticker))"
   ]
  }
 ],
 "metadata": {
  "kernelspec": {
   "display_name": "Python 3",
   "language": "python",
   "name": "python3"
  },
  "language_info": {
   "codemirror_mode": {
    "name": "ipython",
    "version": 3
   },
   "file_extension": ".py",
   "mimetype": "text/x-python",
   "name": "python",
   "nbconvert_exporter": "python",
   "pygments_lexer": "ipython3",
   "version": "3.7.7"
  }
 },
 "nbformat": 4,
 "nbformat_minor": 4
}
